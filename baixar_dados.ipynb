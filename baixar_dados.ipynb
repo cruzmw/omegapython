{
  "nbformat": 4,
  "nbformat_minor": 0,
  "metadata": {
    "colab": {
      "provenance": [],
      "authorship_tag": "ABX9TyMtW2EBjZSY1ATqGhZRIiY3",
      "include_colab_link": true
    },
    "kernelspec": {
      "name": "python3",
      "display_name": "Python 3"
    },
    "language_info": {
      "name": "python"
    }
  },
  "cells": [
    {
      "cell_type": "markdown",
      "metadata": {
        "id": "view-in-github",
        "colab_type": "text"
      },
      "source": [
        "<a href=\"https://colab.research.google.com/github/cruzmw/omegapython/blob/main/baixar_dados.ipynb\" target=\"_parent\"><img src=\"https://colab.research.google.com/assets/colab-badge.svg\" alt=\"Open In Colab\"/></a>"
      ]
    },
    {
      "cell_type": "code",
      "execution_count": 11,
      "metadata": {
        "id": "lVWc2-1f7OsT"
      },
      "outputs": [],
      "source": [
        "import yfinance as yf"
      ]
    },
    {
      "cell_type": "code",
      "source": [
        "lista = ['PETR4.SA']"
      ],
      "metadata": {
        "id": "8xJi2W9o7ZcK"
      },
      "execution_count": 12,
      "outputs": []
    },
    {
      "cell_type": "code",
      "source": [
        "dados = yf.download(lista, start = '2022-09-01')['Close']"
      ],
      "metadata": {
        "colab": {
          "base_uri": "https://localhost:8080/"
        },
        "id": "kKWI5qEu78Gl",
        "outputId": "e46c12ff-08b6-426f-80d4-454af752a395"
      },
      "execution_count": 13,
      "outputs": [
        {
          "output_type": "stream",
          "name": "stdout",
          "text": [
            "\r[*********************100%***********************]  1 of 1 completed\n"
          ]
        }
      ]
    },
    {
      "cell_type": "code",
      "source": [
        "dados.info"
      ],
      "metadata": {
        "colab": {
          "base_uri": "https://localhost:8080/"
        },
        "id": "CPvgC4kj8zHp",
        "outputId": "4de74265-eb1e-4716-e34d-375d0b4a72ec"
      },
      "execution_count": 14,
      "outputs": [
        {
          "output_type": "execute_result",
          "data": {
            "text/plain": [
              "<bound method Series.info of Date\n",
              "2022-09-01    33.849998\n",
              "2022-09-02    33.419998\n",
              "2022-09-05    33.340000\n",
              "2022-09-06    32.099998\n",
              "2022-09-08    31.799999\n",
              "                ...    \n",
              "2023-04-13    26.030001\n",
              "2023-04-14    26.299999\n",
              "2023-04-17    26.709999\n",
              "2023-04-18    27.389999\n",
              "2023-04-19    26.830000\n",
              "Name: Close, Length: 157, dtype: float64>"
            ]
          },
          "metadata": {},
          "execution_count": 14
        }
      ]
    },
    {
      "cell_type": "code",
      "source": [],
      "metadata": {
        "id": "9f-ZOsKL-oXF"
      },
      "execution_count": null,
      "outputs": []
    }
  ]
}